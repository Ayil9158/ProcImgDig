{
 "cells": [
  {
   "cell_type": "markdown",
   "metadata": {},
   "source": [
    "<!--Información del curso-->\n",
    "<img align=\"left\" style=\"padding-right:10px;\" src=\"figuras/logo_pi.png\">"
   ]
  },
  {
   "cell_type": "markdown",
   "metadata": {},
   "source": [
    "<center><h1 style=\"font-size:2em;color:#2467C0\">  Caso de estudio </h1></center>\n",
    "\n",
    "<center><h4 style=\"font-size:2em;color:#840700\">  Pasajeros del Titanic  </h4></center>\n",
    "\n",
    "<br>\n",
    "<table>\n",
    "<col width=\"550\">\n",
    "<col width=\"450\">\n",
    "<tr>\n",
    "<td><img src=\"figuras/titanic.jpg\" align=\"middle\" style=\"width:500px\"/></td>\n",
    "<td align=\"left-align\">\n",
    "\n",
    "EL **Titanic** fue un transatlántico británico, el mayor barco del mundo al finalizar su construcción, que se hundió en la noche del 14 a la madrugada del 15 de abril de 1912 durante su viaje inaugural desde Southampton a Nueva York. Solo sobrevivieron 711 de las 2208 personas que iban a bordo (contando pasajeros y tripulación)\n",
    "\n",
    "En este ejemplo, analizaremos información de los pasajeros del Titanic utilizando la librerá Pandas.\n",
    "\n",
    "    \n",
    "<br>\n",
    "</td>\n",
    "</tr>\n",
    "</table>"
   ]
  },
  {
   "cell_type": "markdown",
   "metadata": {},
   "source": [
    "# Librerías"
   ]
  },
  {
   "cell_type": "markdown",
   "metadata": {
    "collapsed": true
   },
   "source": [
    "Cargamos las bibliotecas que necesitamos "
   ]
  },
  {
   "cell_type": "code",
   "execution_count": 1,
   "metadata": {},
   "outputs": [],
   "source": [
    "import csv\n",
    "import matplotlib.pyplot as plt"
   ]
  },
  {
   "cell_type": "markdown",
   "metadata": {},
   "source": [
    "# Cargamos los datos"
   ]
  },
  {
   "cell_type": "code",
   "execution_count": 2,
   "metadata": {
    "run_control": {
     "frozen": false,
     "read_only": false
    }
   },
   "outputs": [],
   "source": [
    "#Leer el archivo datos/titanic_datos.txt\n"
   ]
  },
  {
   "cell_type": "markdown",
   "metadata": {},
   "source": [
    "Descripción de las columnas : \n",
    "* Survival - Supervivencia  (0 = No; 1 = Si).  \n",
    "* Pclass - Clase (1 = 1st; 2 = 2nd; 3 = 3rd)\n",
    "* Name - Nombre\n",
    "* Sex - Sexo\n",
    "* Age - Edad\n",
    "* Sibsp - Número de hermanos / cónyuges a bordo\n",
    "* Parch - Número de padres / niños a bordo\n",
    "* Ticket - Número de ticket\n",
    "* Fare - Tarifa \n",
    "* Cabin - Número de cabina\n",
    "* Embarked - Puerto de embarque (C = Cherbourg; Q = Queenstown; S = Southampton)"
   ]
  },
  {
   "cell_type": "code",
   "execution_count": 3,
   "metadata": {},
   "outputs": [],
   "source": [
    "import csv\n",
    "\n"
   ]
  },
  {
   "cell_type": "code",
   "execution_count": null,
   "metadata": {},
   "outputs": [],
   "source": [
    "\n"
   ]
  },
  {
   "cell_type": "markdown",
   "metadata": {},
   "source": [
    "<div class=\"alert alert-info\">\n",
    " <ul>\n",
    "  <li>Encuentre el número de pasajeros</li>\n",
    "</ul> \n",
    "\n",
    "</div>"
   ]
  },
  {
   "cell_type": "code",
   "execution_count": 4,
   "metadata": {},
   "outputs": [
    {
     "name": "stdout",
     "output_type": "stream",
     "text": [
      "Pasajeros:  891\n"
     ]
    }
   ],
   "source": [
    "contador_personas=0\n",
    "\n",
    "with open('datos/titanic_datos.txt') as archivo_txt:\n",
    "    datos = csv.reader(archivo_txt)\n",
    "    next(datos)\n",
    "    #print(list(datos))\n",
    "    for linea in datos:\n",
    "        #print(linea)\n",
    "        contador_personas = contador_personas + 1\n",
    "\n",
    "print('Pasajeros: ',contador_personas)"
   ]
  },
  {
   "cell_type": "markdown",
   "metadata": {},
   "source": [
    "<div class=\"alert alert-info\">\n",
    " <ul>\n",
    "  <li>Encuentre el número de sobrevivientes</li>\n",
    "</ul> \n",
    "\n",
    "</div>"
   ]
  },
  {
   "cell_type": "code",
   "execution_count": 5,
   "metadata": {},
   "outputs": [
    {
     "name": "stdout",
     "output_type": "stream",
     "text": [
      "Sobrevivientes:  342\n"
     ]
    }
   ],
   "source": [
    "contador_sobrevivientes=0\n",
    "\n",
    "with open('datos/titanic_datos.txt') as archivo_txt:\n",
    "    datos = csv.reader(archivo_txt)\n",
    "    next(datos)\n",
    "    for linea in datos:\n",
    "        #print(linea[1])\n",
    "        if linea[1] == '1':\n",
    "            contador_sobrevivientes=contador_sobrevivientes+1\n",
    "\n",
    "print('Sobrevivientes: ',contador_sobrevivientes )"
   ]
  },
  {
   "cell_type": "markdown",
   "metadata": {},
   "source": [
    "<div class=\"alert alert-info\">\n",
    " <ul>\n",
    "  <li>Encuentre el numero de pasajeros por clase </li>\n",
    "</ul> \n",
    "\n",
    "</div>"
   ]
  },
  {
   "cell_type": "code",
   "execution_count": 33,
   "metadata": {},
   "outputs": [
    {
     "name": "stdout",
     "output_type": "stream",
     "text": [
      "Clase 1:  216\n",
      "Clase 2:  184\n",
      "Clase 3:  491\n",
      "Total:  891\n"
     ]
    }
   ],
   "source": [
    "contador_C1=0\n",
    "contador_C2=0\n",
    "contador_C3=0\n",
    "\n",
    "with open('datos/titanic_datos.txt') as archivo_txt:\n",
    "    datos = csv.reader(archivo_txt)\n",
    "    #print(list(datos))\n",
    "    next(datos)\n",
    "    for linea in datos:\n",
    "        #print(linea)\n",
    "        if  linea[2] == '1':\n",
    "            contador_C1 += 1\n",
    "        elif linea[2] == '2':\n",
    "            contador_C2 += 1\n",
    "        elif linea[2] == '3':\n",
    "            contador_C3 += 1\n",
    "total_pasajeros = (contador_C1+contador_C2+contador_C3)\n",
    "\n",
    "print('Clase 1: ',contador_C1)\n",
    "print('Clase 2: ',contador_C2)\n",
    "print('Clase 3: ',contador_C3)\n",
    "print('Total: ', total_pasajeros)"
   ]
  },
  {
   "cell_type": "markdown",
   "metadata": {},
   "source": [
    "<div class=\"alert alert-info\">\n",
    " <ul>\n",
    "  <li>Encuentre el numero de pasajeros que tengan como nombre o apellido el string 'William'</li>\n",
    "</ul> \n",
    "\n",
    "</div>"
   ]
  },
  {
   "cell_type": "code",
   "execution_count": 7,
   "metadata": {},
   "outputs": [
    {
     "name": "stdout",
     "output_type": "stream",
     "text": [
      "Nombres con contador_William: 64\n"
     ]
    }
   ],
   "source": [
    "contador_William=0\n",
    "\n",
    "with open('datos/titanic_datos.txt') as archivo_txt:\n",
    "    datos = csv.reader(archivo_txt)\n",
    "    next(datos)\n",
    "    for linea in datos:\n",
    "        #print( 'William' in  linea[4] ) \n",
    "        if 'William' in  linea[4] :\n",
    "            contador_William = contador_William + 1\n",
    "\n",
    "print('Nombres con contador_William:', contador_William)"
   ]
  },
  {
   "cell_type": "markdown",
   "metadata": {},
   "source": [
    "## Tarea"
   ]
  },
  {
   "cell_type": "markdown",
   "metadata": {},
   "source": [
    "<div class=\"alert alert-success\">\n",
    " <ul>\n",
    "  <li>1. Encuentre el número de mujeres y hombres. ¿Cuál era la probabilidad de supervivencia de una persona? ¿Cuál era la probabilidad de supervivencia de un hombre y el de una mujer?</li>\n",
    "</ul> \n",
    "\n",
    "</div>"
   ]
  },
  {
   "cell_type": "code",
   "execution_count": 12,
   "metadata": {},
   "outputs": [
    {
     "name": "stdout",
     "output_type": "stream",
     "text": [
      "Mujeres:  314\n",
      "Hombres:  577\n",
      "Probabilidad de supervivencia:  38.38383838383838 %\n",
      "Prob. de supervivencia mujer: 74.20382165605095 %\n",
      "Prob. de supervivencia hombre: 18.890814558058924 %\n"
     ]
    }
   ],
   "source": [
    "contador_mujeres=0\n",
    "contador_hombres=0\n",
    "sup_m=0\n",
    "sup_h=0\n",
    "\n",
    "with open('datos/titanic_datos.txt') as archivo_txt:\n",
    "    datos = csv.reader(archivo_txt)\n",
    "    next(datos)\n",
    "    for linea in datos:\n",
    "        #print('female' in linea[5])\n",
    "        if 'female' in linea[5]:\n",
    "            contador_mujeres=contador_mujeres+1\n",
    "            #print(linea[1])\n",
    "            if linea[1] == '1':\n",
    "                sup_m=sup_m+1\n",
    "        elif 'male' in linea[5]:\n",
    "            contador_hombres=contador_hombres+1\n",
    "            if linea[1] == '1':\n",
    "                sup_h=sup_h+1\n",
    "\n",
    "prob_sobrevivir = contador_sobrevivientes*100/contador_personas\n",
    "prob_m = (sup_m/contador_mujeres)*100\n",
    "prom_h = (sup_h/contador_hombres)*100\n",
    "\n",
    "#print('mujeres vivas:', sup_m, 'hombres vivos:', sup_h, 'sobrevivientes totales:', contador_sobrevivientes)\n",
    "print('Mujeres: ', contador_mujeres)\n",
    "print('Hombres: ', contador_hombres)\n",
    "print('Probabilidad de supervivencia: ', prob_sobrevivir, '%')\n",
    "print('Prob. de supervivencia mujer:', prob_m, '%')\n",
    "print('Prob. de supervivencia hombre:', prom_h, '%')"
   ]
  },
  {
   "cell_type": "markdown",
   "metadata": {},
   "source": [
    "<div class=\"alert alert-success\">\n",
    " <ul>\n",
    "  <li>2. ¿Cuál era la edad promedio?¿Cual era la edad de la persona más grande y la de la más joven? ¿Cuáles eran las edades de las 5 personas mas grandes?.  </li>\n",
    "</ul> \n",
    "\n",
    "</div>"
   ]
  },
  {
   "cell_type": "code",
   "execution_count": 15,
   "metadata": {},
   "outputs": [
    {
     "name": "stdout",
     "output_type": "stream",
     "text": [
      "Edad promedio es:  29.69911764705882\n",
      "Edad de la persona más grande:  80\n",
      "Edad de la persona más joven:  1\n"
     ]
    }
   ],
   "source": [
    "suma=0\n",
    "contador_edades=0\n",
    "menor_edad=100\n",
    "mayor_edad=1\n",
    "edad_actual=0\n",
    "mayores=0\n",
    "\n",
    "with open('datos/titanic_datos.txt') as archivo_txt:\n",
    "    datos = csv.reader(archivo_txt)\n",
    "    next(datos)\n",
    "    for linea in datos:\n",
    "        #print(linea[6])\n",
    "        try:\n",
    "            suma = suma + float(linea[6])\n",
    "            contador_edades=contador_edades+1\n",
    "            edad_actual = int(linea[6])\n",
    "            if edad_actual > mayor_edad:\n",
    "                mayor_edad=edad_actual\n",
    "                #mayores[contador_edades]=int(linea[6])     no encuentro como hacer el vector que contenga mayor edad\n",
    "                \n",
    "            if edad_actual < menor_edad:\n",
    "                menor_edad=edad_actual\n",
    "        except:\n",
    "            pass \n",
    "        #print(suma)\n",
    "        \n",
    "edad_prom=suma/contador_edades\n",
    "print('Edad promedio es: ', edad_prom)\n",
    "print('Edad de la persona más grande: ', mayor_edad)\n",
    "print('Edad de la persona más joven: ', menor_edad)\n"
   ]
  },
  {
   "cell_type": "markdown",
   "metadata": {},
   "source": [
    "<div class=\"alert alert-success\">\n",
    " <ul>\n",
    "  <li> 3. ¿Cuál era la probabilidad de supervivencia de alguien menor a 25 años?  </li>\n",
    "</ul> \n",
    "\n",
    "</div>"
   ]
  },
  {
   "cell_type": "code",
   "execution_count": 26,
   "metadata": {},
   "outputs": [
    {
     "name": "stdout",
     "output_type": "stream",
     "text": [
      "Probabilidad de supervivencia de alguien menor a 25 años:  32.45614035087719 %\n"
     ]
    }
   ],
   "source": [
    "contador_menores25=0\n",
    "edad_actual=0\n",
    "\n",
    "with open('datos/titanic_datos.txt') as archivo_txt:\n",
    "    datos = csv.reader(archivo_txt)\n",
    "    next(datos)\n",
    "    for linea in datos:\n",
    "        #print(linea[6])\n",
    "        #try cuando el dato de la linea tenga que ser un intrepretado como valor numerico\n",
    "        if linea[1] == '1':\n",
    "            try:\n",
    "                edad_actual = int(linea[6])\n",
    "                if edad_actual < 25:\n",
    "                    contador_menores25=contador_menores25+1\n",
    "            except:\n",
    "                pass \n",
    "            #print(suma)\n",
    "\n",
    "prob_menor25=contador_menores25*100/contador_sobrevivientes\n",
    "\n",
    "print('Probabilidad de supervivencia de alguien menor a 25 años: ', prob_menor25, '%')"
   ]
  },
  {
   "cell_type": "markdown",
   "metadata": {},
   "source": [
    "<div class=\"alert alert-success\">\n",
    " <ul>\n",
    "  <li> 4. Encuentre en número de personas que embarcaron en Cherbourg, Queenstown y en Southampton.  </li>\n",
    "</ul> \n",
    "\n",
    "</div>"
   ]
  },
  {
   "cell_type": "code",
   "execution_count": 25,
   "metadata": {},
   "outputs": [
    {
     "name": "stdout",
     "output_type": "stream",
     "text": [
      "Personas que embarcaron en Cherbourg:  168\n",
      "Personas que embarcaron en Queenstown:  77\n",
      "Personas que embarcaron en Southampton:  644\n"
     ]
    }
   ],
   "source": [
    "contador_cherbourg=0\n",
    "contador_queenstown=0\n",
    "contador_southampton=0\n",
    "\n",
    "with open('datos/titanic_datos.txt') as archivo_txt:\n",
    "    datos = csv.reader(archivo_txt)\n",
    "    next(datos)\n",
    "    #print(list(datos))\n",
    "    for linea in datos:\n",
    "        #print(linea[12]) #(C = Cherbourg; Q = Queenstown; S = Southampton)\n",
    "        if 'C' in linea[12]:\n",
    "            contador_cherbourg=contador_cherbourg + 1\n",
    "        if 'Q' in linea[12]:\n",
    "            contador_queenstown=contador_queenstown + 1\n",
    "        if 'S' in linea[12]:\n",
    "            contador_southampton=contador_southampton + 1\n",
    "\n",
    "print('Personas que embarcaron en Cherbourg: ', contador_cherbourg)\n",
    "print('Personas que embarcaron en Queenstown: ', contador_queenstown)\n",
    "print('Personas que embarcaron en Southampton: ', contador_southampton)"
   ]
  },
  {
   "cell_type": "markdown",
   "metadata": {},
   "source": [
    "<div class=\"alert alert-success\">\n",
    " \n",
    " <ul>\n",
    "  <li> 5. ¿Cómo difiere la tasa de supervivencia entre las diferentes clases del Titanic?</li>\n",
    "</ul> \n",
    "\n",
    "</div>"
   ]
  },
  {
   "cell_type": "code",
   "execution_count": null,
   "metadata": {},
   "outputs": [],
   "source": []
  },
  {
   "cell_type": "code",
   "execution_count": 32,
   "metadata": {},
   "outputs": [
    {
     "name": "stdout",
     "output_type": "stream",
     "text": [
      "Supervivientes de la clase 1:  136\n",
      "Supervivientes de la clase 2:  87\n",
      "Supervivientes de la clase 3:  119\n"
     ]
    }
   ],
   "source": [
    "contador_C1_vivo=0\n",
    "contador_C2_vivo=0\n",
    "contador_C3_vivo=0\n",
    "\n",
    "with open('datos/titanic_datos.txt') as archivo_txt:\n",
    "    datos = csv.reader(archivo_txt)\n",
    "    #print(list(datos))\n",
    "    next(datos)\n",
    "    for linea in datos:\n",
    "        if  linea[2] == '1':\n",
    "            if linea[1]=='1':\n",
    "                contador_C1_vivo += 1\n",
    "        elif linea[2] == '2':\n",
    "            if linea[1]=='1':\n",
    "                contador_C2_vivo += 1\n",
    "        elif linea[2] == '3':\n",
    "            if linea[1]=='1':\n",
    "                contador_C3_vivo += 1\n",
    "\n",
    "#clases_vivos = (contador_C1_vivo+contador_C2_vivo+contador_C3_vivo)\n",
    "\n",
    "print('Supervivientes de la clase 1: ',contador_C1_vivo)\n",
    "print('Supervivientes de la clase 2: ',contador_C2_vivo)\n",
    "print('Supervivientes de la clase 3: ',contador_C3_vivo)\n",
    "#print('Total: ', clases_vivos)\n",
    "\n",
    "\n",
    "\n",
    "\n",
    "\n"
   ]
  },
  {
   "cell_type": "markdown",
   "metadata": {},
   "source": [
    "<img align=\"left\" width=\"800\"  float= \"none\" align=\"middle\" src=\"figuras/titanic2.png\">"
   ]
  },
  {
   "cell_type": "code",
   "execution_count": null,
   "metadata": {},
   "outputs": [],
   "source": []
  }
 ],
 "metadata": {
  "kernelspec": {
   "display_name": "Python 3 (ipykernel)",
   "language": "python",
   "name": "python3"
  },
  "language_info": {
   "codemirror_mode": {
    "name": "ipython",
    "version": 3
   },
   "file_extension": ".py",
   "mimetype": "text/x-python",
   "name": "python",
   "nbconvert_exporter": "python",
   "pygments_lexer": "ipython3",
   "version": "3.7.7"
  }
 },
 "nbformat": 4,
 "nbformat_minor": 4
}
