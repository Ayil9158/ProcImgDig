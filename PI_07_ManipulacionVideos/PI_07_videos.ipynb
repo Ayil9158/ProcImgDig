{
 "cells": [
  {
   "cell_type": "markdown",
   "metadata": {},
   "source": [
    "<!--Información del curso-->\n",
    "<img align=\"left\" style=\"padding-right:10px;\" src=\"figuras/banner_dl.png\">\n"
   ]
  },
  {
   "cell_type": "markdown",
   "metadata": {},
   "source": [
    "<br><br><center><h1 style=\"font-size:2em;color:#2467C0\"> Manipulación de videos </h1></center>\n",
    "<br>\n",
    "<table>\n",
    "<col width=\"550\">\n",
    "<col width=\"450\">\n",
    "<tr>\n",
    "    \n",
    "    \n",
    "<td><img src=\"figuras/opencv_reading_mp4_video.png\" align=\"middle\" style=\"width:550px;\"/></td>\n",
    "<td>\n",
    "\n",
    "OpenCV(Open Source Computer Vision) es una biblioteca de visión por computadora que contiene varias funciones para realizar operaciones en imágenes o videos. La biblioteca OpenCV se puede utilizar para realizar múltiples operaciones en videos.\n",
    "    \n",
    "    \n",
    "<br>\n",
    "</td>\n",
    "</tr>\n",
    "</table>"
   ]
  },
  {
   "cell_type": "markdown",
   "metadata": {},
   "source": [
    "# 0. Librerías básicas"
   ]
  },
  {
   "cell_type": "code",
   "execution_count": 1,
   "metadata": {},
   "outputs": [],
   "source": [
    "#Librerías básicas de esta notebook\n",
    "import matplotlib.pyplot as plt\n",
    "import numpy as np\n",
    "import cv2 as cv\n"
   ]
  },
  {
   "cell_type": "markdown",
   "metadata": {},
   "source": [
    "# 1. Reproducir  el video"
   ]
  },
  {
   "cell_type": "code",
   "execution_count": 5,
   "metadata": {},
   "outputs": [],
   "source": [
    "video = cv.VideoCapture(\"videos/video_ejemplo.mp4\")\n",
    "while(video.isOpened()):\n",
    "    ret, frame = video.read()\n",
    "    #ret es una  variable booleana, true -> existe imagen , false -> No existe (final de video)\n",
    "    if ret:\n",
    "        cv.imshow(\"video original\", frame)\n",
    "        if cv.waitKey(1) & 0xFF == ord('q'):\n",
    "            break\n",
    "    else:\n",
    "        break\n",
    "video.release()\n",
    "cv.destroyAllWindows()"
   ]
  },
  {
   "cell_type": "markdown",
   "metadata": {},
   "source": [
    "# 2. Cambiar el tamaño y tiempo de reproducción"
   ]
  },
  {
   "cell_type": "code",
   "execution_count": 18,
   "metadata": {},
   "outputs": [],
   "source": [
    "import time\n",
    "video=cv.VideoCapture(\"videos/video_ejemplo.mp4\")\n",
    "while(video.isOpened()):\n",
    "    ret, frame=video.read()\n",
    "    #ret es una  variable booleana, true -> existe imagen , false -> No existe (final de video)\n",
    "    if ret:\n",
    "        time.sleep(.005)\n",
    "        img=frame.copy()\n",
    "        ratio=0.35\n",
    "        alto= int( (img.shape[0])*ratio )\n",
    "        ancho=int( (img.shape[1])*ratio  )\n",
    "        img=cv.resize( img ,(ancho, alto), interpolation=cv.INTER_NEAREST )\n",
    "\n",
    "        #cv.imshow(\"video original\", frame)\n",
    "        cv.imshow(\"video resize\", img)\n",
    "\n",
    "        contador=contador+1\n",
    "\n",
    "        if cv.waitKey(1) & 0xFF == ord('q'):\n",
    "            break\n",
    "    else:\n",
    "        break\n",
    "video.release()\n",
    "cv.destroyAllWindows()\n"
   ]
  },
  {
   "cell_type": "markdown",
   "metadata": {},
   "source": [
    "# 3. Guardar los primeros N frames"
   ]
  },
  {
   "cell_type": "code",
   "execution_count": 15,
   "metadata": {},
   "outputs": [],
   "source": [
    "contador=0\n",
    "fotogramas=5\n",
    "\n",
    "import time\n",
    "video=cv.VideoCapture(\"videos/video_ejemplo.mp4\")\n",
    "while(video.isOpened() and contador < fotogramas):\n",
    "    ret, frame=video.read()\n",
    "    #ret es una  variable booleana, true -> existe imagen , false -> No existe (final de video)\n",
    "    if ret:\n",
    "        time.sleep(.005)\n",
    "        img=frame.copy()\n",
    "        ratio=0.35\n",
    "        alto= int( (img.shape[0])*ratio )\n",
    "        ancho=int( (img.shape[1])*ratio  )\n",
    "        img=cv.resize( img ,(ancho, alto), interpolation=cv.INTER_NEAREST )\n",
    "\n",
    "        #cv.imshow(\"video original\", frame)\n",
    "        cv.imshow(\"video resize\", img)\n",
    "        cv.imwrite('capturas/imagen_'+str(contador)+'.jpg', img)\n",
    "\n",
    "        contador=contador+1\n",
    "\n",
    "        if cv.waitKey(1) & 0xFF == ord('q'):\n",
    "            break\n",
    "    else:\n",
    "        break\n",
    "video.release()\n",
    "cv.destroyAllWindows()"
   ]
  },
  {
   "cell_type": "markdown",
   "metadata": {},
   "source": [
    "# 4. Cambiar a escala de grises"
   ]
  },
  {
   "cell_type": "code",
   "execution_count": 22,
   "metadata": {},
   "outputs": [],
   "source": [
    "#Definir la función"
   ]
  },
  {
   "cell_type": "code",
   "execution_count": 26,
   "metadata": {},
   "outputs": [],
   "source": [
    "import time\n",
    "video=cv.VideoCapture(\"videos/video_ejemplo.mp4\")\n",
    "while(video.isOpened()):\n",
    "    ret, frame=video.read()\n",
    "    #ret es una  variable booleana, true -> existe imagen , false -> No existe (final de video)\n",
    "    if ret:\n",
    "        time.sleep(.005)\n",
    "        img=frame.copy()\n",
    "        ratio=0.35\n",
    "        alto= int( (img.shape[0])*ratio )\n",
    "        ancho=int( (img.shape[1])*ratio  )\n",
    "        img=cv.resize( img ,(ancho, alto), interpolation=cv.INTER_NEAREST )\n",
    "        img_gray = cv.cvtColor(img, cv.COLOR_BGR2GRAY)\n",
    "\n",
    "        #cv.imshow(\"video original\", frame)\n",
    "        cv.imshow(\"video resize\", img)\n",
    "        cv.imshow(\"video resize gray\", img_gray)\n",
    "\n",
    "        contador=contador+1\n",
    "\n",
    "        if cv.waitKey(1) & 0xFF == ord('q'):\n",
    "            break\n",
    "    else:\n",
    "        break\n",
    "video.release()\n",
    "cv.destroyAllWindows()"
   ]
  },
  {
   "cell_type": "markdown",
   "metadata": {},
   "source": [
    "# 5. Video binarizado (blanco y negro)"
   ]
  },
  {
   "cell_type": "code",
   "execution_count": 24,
   "metadata": {},
   "outputs": [],
   "source": [
    "#Definir la función de binarización\n",
    "def binarizacion(imagen):\n",
    "    imagen_gray=cv.cvtColor(imagen, cv.COLOR_BGR2GRAY)\n",
    "    _, imagen_binarizada=cv.threshold(imagen_gray,100,255,cv.THRESH_BINARY)\n",
    "    return imagen_binarizada"
   ]
  },
  {
   "cell_type": "code",
   "execution_count": 25,
   "metadata": {},
   "outputs": [],
   "source": [
    "import time\n",
    "video=cv.VideoCapture(\"videos/video_ejemplo.mp4\")\n",
    "while(video.isOpened()):\n",
    "    ret, frame=video.read()\n",
    "    #ret es una  variable booleana, true -> existe imagen , false -> No existe (final de video)\n",
    "    if ret:\n",
    "        time.sleep(.005)\n",
    "        img=frame.copy()\n",
    "        ratio=0.35\n",
    "        alto= int( (img.shape[0])*ratio )\n",
    "        ancho=int( (img.shape[1])*ratio  )\n",
    "        img=cv.resize( img ,(ancho, alto), interpolation=cv.INTER_NEAREST )\n",
    "        img_bn = binarizacion(img)\n",
    "\n",
    "        #cv.imshow(\"video original\", frame)\n",
    "        cv.imshow(\"video resize\", img)\n",
    "        cv.imshow(\"video resize gray\", img_bn)\n",
    "\n",
    "        if cv.waitKey(1) & 0xFF == ord('q'):\n",
    "            break\n",
    "    else:\n",
    "        break\n",
    "video.release()\n",
    "cv.destroyAllWindows()"
   ]
  },
  {
   "cell_type": "markdown",
   "metadata": {},
   "source": [
    "# 6. Video binarizado (blanco y negro) y con la mitad de tamaño"
   ]
  },
  {
   "cell_type": "code",
   "execution_count": 30,
   "metadata": {},
   "outputs": [],
   "source": [
    "def mediana(imagen):\n",
    "    imagen_gray=cv.cvtColor(imagen, cv.COLOR_BGR2GRAY)\n",
    "    _, imagen_binarizada=cv.threshold(imagen_gray,100,255,cv.THRESH_BINARY)\n",
    "    filtro_mediana=cv.medianBlur(imagen_binarizada ,5)\n",
    "    return filtro_mediana"
   ]
  },
  {
   "cell_type": "code",
   "execution_count": 31,
   "metadata": {},
   "outputs": [],
   "source": [
    "import time\n",
    "video=cv.VideoCapture(0)\n",
    "while(video.isOpened()):\n",
    "    ret, frame=video.read()\n",
    "    #ret es una  variable booleana, true -> existe imagen , false -> No existe (final de video)\n",
    "    if ret:\n",
    "        time.sleep(.005)\n",
    "        img=frame.copy()\n",
    "        ratio=0.35\n",
    "        alto= int( (img.shape[0])*ratio )\n",
    "        ancho=int( (img.shape[1])*ratio  )\n",
    "        img=cv.resize( img ,(ancho, alto), interpolation=cv.INTER_NEAREST )\n",
    "        img_med = mediana(img)\n",
    "\n",
    "        cv.imshow(\"video resize\", img)\n",
    "        cv.imshow(\"video bin mediana\", img_med)\n",
    "\n",
    "        if cv.waitKey(1) & 0xFF == ord('q'):\n",
    "            break\n",
    "    else:\n",
    "        break\n",
    "video.release()\n",
    "cv.destroyAllWindows()"
   ]
  },
  {
   "cell_type": "code",
   "execution_count": null,
   "metadata": {},
   "outputs": [],
   "source": []
  }
 ],
 "metadata": {
  "kernelspec": {
   "display_name": "Python 3 (ipykernel)",
   "language": "python",
   "name": "python3"
  },
  "language_info": {
   "codemirror_mode": {
    "name": "ipython",
    "version": 3
   },
   "file_extension": ".py",
   "mimetype": "text/x-python",
   "name": "python",
   "nbconvert_exporter": "python",
   "pygments_lexer": "ipython3",
   "version": "3.10.11"
  }
 },
 "nbformat": 4,
 "nbformat_minor": 4
}
