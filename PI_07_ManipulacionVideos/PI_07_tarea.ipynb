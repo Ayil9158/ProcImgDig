{
 "cells": [
  {
   "cell_type": "markdown",
   "metadata": {},
   "source": [
    "<!--Información del curso-->\n",
    "<img align=\"left\" style=\"padding-right:10px;\" src=\"figuras/banner_dl.png\">\n"
   ]
  },
  {
   "cell_type": "markdown",
   "metadata": {},
   "source": [
    "<br><br><center><h1 style=\"font-size:2em;color:#2467C0\"> Proyecto de OpenCV </h1></center>\n",
    "<br>\n",
    "<table>\n",
    "<col width=\"550\">\n",
    "<col width=\"450\">\n",
    "<tr>\n",
    "    \n",
    "    \n",
    "<td><img src=\"figuras/amarillo.png\" align=\"middle\" style=\"width:550px;\"/></td>\n",
    "<td>\n",
    "\n",
    "Hacer un efecto de selección de color amarillo en un video corto (aproximadamente 30 segundos).\n",
    "    \n",
    "    \n",
    "<br>\n",
    "</td>\n",
    "</tr>\n",
    "</table>"
   ]
  },
  {
   "cell_type": "markdown",
   "metadata": {},
   "source": [
    "# 0. Librerías básicas"
   ]
  },
  {
   "cell_type": "code",
   "execution_count": 2,
   "metadata": {},
   "outputs": [],
   "source": [
    "#Librerías básicas de esta notebook\n",
    "import matplotlib.pyplot as plt\n",
    "import numpy as np\n",
    "import cv2 as cv"
   ]
  },
  {
   "cell_type": "markdown",
   "metadata": {},
   "source": [
    "Instrucciones:\n",
    "* Hacer un efecto de selección de color amarillo en un video corto (aproximadamente 30 segundos).\n",
    "\n",
    "**Importante: Deberá subir todos sus archivos en un archivo .ZIP**"
   ]
  },
  {
   "cell_type": "code",
   "execution_count": 1,
   "metadata": {},
   "outputs": [],
   "source": [
    "def binarizacion(imagen):\n",
    "    imagen_gray=cv.cvtColor(imagen, cv.COLOR_BGR2GRAY)\n",
    "    _, imagen_binarizada=cv.threshold(imagen_gray,100,255,cv.THRESH_BINARY)\n",
    "    return imagen_binarizada"
   ]
  },
  {
   "cell_type": "code",
   "execution_count": 18,
   "metadata": {},
   "outputs": [],
   "source": [
    "import time\n",
    "video=cv.VideoCapture(\"videos/VideoPikachu.mp4\")\n",
    "while(video.isOpened()):\n",
    "    ret, frame=video.read()\n",
    "    #ret es una  variable booleana, true -> existe imagen , false -> No existe (final de video)\n",
    "    if ret:\n",
    "        time.sleep(.005)\n",
    "        img=frame.copy()\n",
    "        ratio=0.35\n",
    "        alto= int( (img.shape[0])*ratio )\n",
    "        ancho=int( (img.shape[1])*ratio  )\n",
    "        img=cv.resize( img ,(ancho, alto), interpolation=cv.INTER_NEAREST )\n",
    "\n",
    "        img_hsv=cv.cvtColor(img,cv.COLOR_BGR2HSV)\n",
    "        #(hMin = 13 , sMin = 50, vMin = 96), (hMax = 69 , sMax = 221, vMax = 255)\n",
    "        inferior=np.array([15,109,128])\n",
    "        superior=np.array([36,223,255])\n",
    "        mascara=cv.inRange(img_hsv, inferior, superior)\n",
    "\n",
    "        img_gray=cv.cvtColor(img,cv.COLOR_BGR2GRAY)\n",
    "        img_gray_resta=cv.subtract(img_gray,mascara)\n",
    "        img_gray_resta_rgb=cv.cvtColor(img_gray_resta, cv.COLOR_GRAY2BGR)\n",
    "\n",
    "        img_mascara=cv.bitwise_and(img, img, mask=mascara)\n",
    "        img_final=cv.add(img_gray_resta_rgb, img_mascara)\n",
    "\n",
    "        #cv.imshow(\"video original\", frame)\n",
    "        cv.imshow(\"video mascara\", img_final)\n",
    "\n",
    "        if cv.waitKey(1) & 0xFF == ord('q'):\n",
    "            break\n",
    "    else:\n",
    "        break\n",
    "video.release()\n",
    "cv.destroyAllWindows()"
   ]
  }
 ],
 "metadata": {
  "kernelspec": {
   "display_name": "Python 3 (ipykernel)",
   "language": "python",
   "name": "python3"
  },
  "language_info": {
   "codemirror_mode": {
    "name": "ipython",
    "version": 3
   },
   "file_extension": ".py",
   "mimetype": "text/x-python",
   "name": "python",
   "nbconvert_exporter": "python",
   "pygments_lexer": "ipython3",
   "version": "3.10.11"
  }
 },
 "nbformat": 4,
 "nbformat_minor": 4
}
